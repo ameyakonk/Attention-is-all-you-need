{
 "cells": [
  {
   "cell_type": "code",
   "execution_count": 1,
   "metadata": {},
   "outputs": [],
   "source": [
    "import torch\n",
    "import torch.nn as nn\n",
    "import torch.nn.functional as F\n",
    "import math"
   ]
  },
  {
   "cell_type": "code",
   "execution_count": 2,
   "metadata": {},
   "outputs": [],
   "source": [
    "def scaled_dot_product(q, k, v, mask = None):\n",
    "    d_k = q.size()[-1]\n",
    "    scaled = torch.matmul(q, k.transpose(-2, -1)) / math.sqrt(d_k)\n",
    "    if mask is not None:\n",
    "        scaled += mask\n",
    "    attention = F.softmax(scaled, dim = -1)\n",
    "    values = torch.matmul(attention, v)\n",
    "\n",
    "    return values, attention"
   ]
  },
  {
   "cell_type": "code",
   "execution_count": 3,
   "metadata": {},
   "outputs": [],
   "source": [
    "class MultiheadAttention(nn.Module):\n",
    "    def __init__(self,d_model, num_heads):\n",
    "        super().__init__()\n",
    "        self.d_model = d_model  ## attention head embedding size\n",
    "        assert d_model % num_heads == 0, \"d_model should be divisible by num_heads\"\n",
    "        self.num_heads = num_heads\n",
    "        self.head_dim = d_model // num_heads\n",
    "        self.qkv_linear = nn.Linear(d_model, 3 * d_model)\n",
    "        self.linear_layer = nn.Linear(d_model, d_model)\n",
    "    \n",
    "    def forward(self, x, mask = None):\n",
    "        batch_size, sequence_length, d_model = x.size()\n",
    "        print(f\"x.size(),{x.size()}\")\n",
    "        qkv = self.qkv_linear(x) # (batch_size, seq_len, 3 * d_model)\n",
    "        print(f\"qkv.size(),{qkv.size()}\")\n",
    "        qkv = qkv.reshape(batch_size, sequence_length, self.num_heads, 3*self.head_dim)\n",
    "        print(f\"qkv.size(), {qkv.size()}\")\n",
    "        qkv = qkv.permute(0, 2, 1, 3) # (batch_size, num_heads, seq_len, head_dim)\n",
    "        print(f\"qkv.size(), {qkv.size()}\")\n",
    "        q, k, v = qkv.chunk(3, dim=-1)\n",
    "        print(f\"q.size(), {q.size()}\", f\"k.size(), {k.size()}\", f\"v.size(), {v.size()}\")\n",
    "        values, attention_weights = scaled_dot_product(q, k, v, mask)\n",
    "        print(f\"values.size(), {values.size()}\", f\"attention_weights.size(), {attention_weights.size()}\")\n",
    "        values = values.reshape(batch_size, sequence_length, self.d_model)\n",
    "        print(f\"values.size(), {values.size()}\")\n",
    "        out = self.linear_layer(values)\n",
    "        print(f\"out.size(), {out.size()}\")\n",
    "        return out"
   ]
  },
  {
   "cell_type": "code",
   "execution_count": 4,
   "metadata": {},
   "outputs": [],
   "source": [
    "class LayerNormalization():\n",
    "    def __init__(self, parameters_shape, eps=1e-5):\n",
    "        self.parameters_shape=parameters_shape # [512]\n",
    "        self.eps=eps\n",
    "        self.gamma = nn.Parameter(torch.ones(parameters_shape)) #learnable parameters [512] sd\n",
    "        self.beta =  nn.Parameter(torch.zeros(parameters_shape)) #learnable parameters [512] mean\n",
    "\n",
    "    def forward(self, inputs): # 30 x 200 x 512\n",
    "        dims = [-(i + 1) for i in range(len(self.parameters_shape))] # [-1] last dimension\n",
    "        mean = inputs.mean(dim=dims, keepdim=True) # mean of all 512 values per word 30 x 200 x 1\n",
    "        print(f\"Mean \\n ({mean.size()}): \\n {mean}\") \n",
    "        var = ((inputs - mean) ** 2).mean(dim=dims, keepdim=True)# variance of all 512 values per word 30 x 200 x 1\n",
    "        std = (var + self.eps).sqrt() #sd\n",
    "        print(f\"Standard Deviation \\n ({std.size()}): \\n {std}\")\n",
    "        y = (inputs - mean) / std # 30 x 200 x 512\n",
    "        print(f\"y \\n ({y.size()}) = \\n {y}\")\n",
    "        out = self.gamma * y  + self.beta\n",
    "        print(f\"out \\n ({out.size()}) = \\n {out}\")\n",
    "        return out"
   ]
  },
  {
   "cell_type": "code",
   "execution_count": 5,
   "metadata": {},
   "outputs": [],
   "source": [
    "class PositionwiseFeedForward(nn.Module):\n",
    "    def __init__(self, d_model, hidden, drop_prob=0.1):\n",
    "        super(PositionwiseFeedForward, self).__init__()\n",
    "        self.linear1 = nn.Linear(d_model, hidden) #512 x 2048\n",
    "        self.linear2 = nn.Linear(hidden, d_model) #2048 x 512\n",
    "        self.relu = nn.ReLU()       \n",
    "        self.dropout = nn.Dropout(p=drop_prob)\n",
    "\n",
    "    def forward(self, x):   # 30 x 200 x 512\n",
    "        x = self.linear1(x) # 30 x 200 x 2048\n",
    "        x = self.relu(x)    # 30 x 200 x 2048\n",
    "        x = self.dropout(x) # 30 x 200 x 2048\n",
    "        x = self.linear2(x) # 30 x 200 x 512\n",
    "        return x"
   ]
  },
  {
   "cell_type": "code",
   "execution_count": 6,
   "metadata": {},
   "outputs": [],
   "source": [
    "class EncoderLayer(nn.Module):\n",
    "    def __init__(self, d_model, ffn_hidden, num_heads, drop_prob):\n",
    "        super(EncoderLayer, self).__init__()\n",
    "        self.self_attn = MultiheadAttention(d_model=d_model, num_heads = num_heads)\n",
    "        self.norm1 = LayerNormalization(parameters_shape=[d_model])\n",
    "        self.dropout1 = nn.Dropout(p=drop_prob)\n",
    "        self.ffn = PositionwiseFeedForward(d_model=d_model, hidden = ffn_hidden, drop_prob = drop_prob)\n",
    "        self.norm2 = LayerNormalization(parameters_shape=[d_model])\n",
    "        self.dropout2 = nn.Dropout(p=drop_prob)\n",
    "\n",
    "    def forward(self, x):\n",
    "        residual_x = x\n",
    "        x = self.self_attn(x, mask=None) # 30 x 200 x 512\n",
    "        x = self.dropout1(x) # 30 x 200 x 512\n",
    "        x = self.norm1(x + residual_x) # 30 x 200 x 512\n",
    "        residual_x = x\n",
    "        x = self.ffn(x) \n",
    "        x = self.dropout2(x)\n",
    "        x = self.norm2(x + residual_x)\n",
    "        return x"
   ]
  },
  {
   "cell_type": "code",
   "execution_count": 7,
   "metadata": {},
   "outputs": [],
   "source": [
    "class Encoder(nn.Module):\n",
    "    def __init__(self, d_model, ffn_hidden, num_heads, drop_prob, num_layers):\n",
    "        super().__init__()\n",
    "        self.layers = nn.ModuleList(*[EncoderLayer(d_model, ffn_hidden, num_heads, drop_prob) \n",
    "                                      for _ in range(num_layers)]) # num_layers개의 EncoderLayer를 ���음\n",
    "\n",
    "    def forward(self, x):\n",
    "        return self.layers(x)"
   ]
  },
  {
   "cell_type": "code",
   "execution_count": null,
   "metadata": {},
   "outputs": [],
   "source": []
  }
 ],
 "metadata": {
  "kernelspec": {
   "display_name": "dl",
   "language": "python",
   "name": "python3"
  },
  "language_info": {
   "codemirror_mode": {
    "name": "ipython",
    "version": 3
   },
   "file_extension": ".py",
   "mimetype": "text/x-python",
   "name": "python",
   "nbconvert_exporter": "python",
   "pygments_lexer": "ipython3",
   "version": "3.12.5"
  }
 },
 "nbformat": 4,
 "nbformat_minor": 2
}
